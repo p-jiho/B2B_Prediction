{
 "cells": [
  {
   "cell_type": "code",
   "execution_count": 14,
   "id": "eec252e8-3634-4770-a764-076d652d3418",
   "metadata": {
    "tags": []
   },
   "outputs": [],
   "source": [
    "#!pip install seaborn\n",
    "import pandas as pd\n",
    "import numpy as np\n",
    "import matplotlib.pyplot as plt\n",
    "import seaborn as sns\n",
    "import re\n",
    "import time\n",
    "\n",
    "#!pip install geopy\n",
    "#!pip install googletrans==3.1.0a0\n",
    "from googletrans import Translator\n",
    "from geopy.geocoders import Nominatim\n",
    "from geopy.exc import GeocoderTimedOut"
   ]
  },
  {
   "cell_type": "code",
   "execution_count": 48,
   "id": "16e1b94c-4c42-4359-b73c-f843449f205b",
   "metadata": {
    "tags": []
   },
   "outputs": [],
   "source": [
    "train = pd.read_csv('train.csv')\n",
    "submission = pd.read_csv('submission.csv')"
   ]
  },
  {
   "cell_type": "code",
   "execution_count": 19,
   "id": "f2b42c5f-7c90-448f-a430-3b8036c722bb",
   "metadata": {
    "tags": []
   },
   "outputs": [],
   "source": [
    "#### 중복행 제거\n",
    "# 범주형 변수 -> Etc, etc와 같이 정제되어있지 않은 범주형 변수를 간단히 정제 : 같은 etc로 분류되어있지만 다른 데이터라고 되어있는 것을 막기 위함\n",
    "label_columns = [\n",
    "    \"customer_country\",\n",
    "    \"business_subarea\",\n",
    "    \"business_area\",\n",
    "    \"business_unit\",\n",
    "    \"customer_type\",\n",
    "    \"enterprise\",\n",
    "    \"customer_job\",\n",
    "    \"inquiry_type\",\n",
    "    \"product_category\",\n",
    "    \"product_subcategory\",\n",
    "    \"product_modelname\",\n",
    "    \"customer_country.1\",\n",
    "    \"customer_position\",\n",
    "    \"response_corporate\",\n",
    "    \"expected_timeline\",\n",
    "]\n",
    "\n",
    "# 특수문자 제거, 소문자 변환, 공백 제거\n",
    "def regenerate_func(str_c):\n",
    "    new_str = re.sub(r\"[.,~!@#$%^&*\\(\\)_+=\\-~|\\\\\\\"\\';:\\?/\\<\\>\\[\\]\\{\\}]\", \" \", str_c) # 특수문자\n",
    "    new_str = ''.join(new_str.split())\n",
    "    new_str = new_str.strip() # 양옆 공백제거\n",
    "    new_str = new_str.lower() # 소문자 변환\n",
    "    \n",
    "    return new_str\n",
    "\n",
    "# 범주형 변수인 경우 -> 특수문제 제거, 소문자 변환, 공백 제거 => ex) Korea와 korea는 동일, N/A와 NA는 동일\n",
    "df_copy = train.copy()\n",
    "df_copy[label_columns] = df_copy[label_columns].apply(lambda x: [regenerate_func(i) if not pd.isna(i) else i for i in x])  # regenerate function 적용\n",
    "\n",
    "# 중복 데이터 확인\n",
    "duplication = df_copy.duplicated().values\n",
    "duplication = [int(not i) for i in duplication] # False인 경우 1, True인 경우 0으로 변환 -> False인 경우는 중복 행 중 첫번째를 의미\n",
    "\n",
    "# 중복 갯수 산출\n",
    "idx = 0\n",
    "for i in range(len(train)):\n",
    "    if len(train)-1 == i:  # 마지막 행은 중복행이자 첫번째 행일 수 없음. 즉, 1 이면 그대로 1, 0이면 그대로 0으로 출력\n",
    "        continue\n",
    "    \n",
    "    if duplication[i] == 1:  # 1이면 첫번째 행이므로 그대로 출력, idx를 i로 변환해 i번째 행이 첫번째 행임을 나타냄\n",
    "        idx = i\n",
    "    else:\n",
    "        duplication[idx] += 1  # i번째 행이 0이면 idx로 저장해둔 즉, 중복행 중 첫번째 행이 +1 -> 갯수를 셀 수 있음\n",
    "\n",
    "# 중복행 갯수 columns 추가\n",
    "train[\"duplication\"] = duplication\n",
    "train = train[train.duplication != 0]"
   ]
  },
  {
   "cell_type": "code",
   "execution_count": 20,
   "id": "ecb41cf5-6686-4fb1-9ea3-8ccb83e48b81",
   "metadata": {
    "tags": []
   },
   "outputs": [],
   "source": [
    "### 번역 function ------------------ 240208 추가(박지호)\n",
    "def translate_func(text, attempt = 1, max_attempt = 5):\n",
    "    translator = Translator()\n",
    "    try:\n",
    "        return translator.translate(text, dest = \"en\").text  # 번역\n",
    "    except:          # 에러의 경우\n",
    "        if attempt <= max_attempt:   # 5번 이하로 다시 시도\n",
    "            return translate_func(text, attempt = attempt + 1)\n",
    "        raise"
   ]
  },
  {
   "cell_type": "markdown",
   "id": "9bf35f30-91ac-4a62-9fb3-260a9be77055",
   "metadata": {},
   "source": [
    "## 2. customer_country"
   ]
  },
  {
   "cell_type": "code",
   "execution_count": 49,
   "id": "cc090732-330f-4e4a-b91e-8d034def0c3d",
   "metadata": {
    "tags": []
   },
   "outputs": [],
   "source": [
    "# 전처리 이전\n",
    "train_num_na = train['customer_country'].isna().sum()\n",
    "train_num_class = len(train['customer_country'].unique())\n",
    "train_class = train['customer_country'].unique()\n",
    "\n",
    "submission_num_na = submission['customer_country'].isna().sum()\n",
    "submission_num_class = len(submission['customer_country'].unique())\n",
    "submission_class = submission['customer_country'].unique()"
   ]
  },
  {
   "cell_type": "code",
   "execution_count": 50,
   "id": "25d57127-e420-4bae-a549-36ab15303961",
   "metadata": {
    "scrolled": true,
    "tags": []
   },
   "outputs": [
    {
     "name": "stdout",
     "output_type": "stream",
     "text": [
      "------------------ Step 100 : 140.91909313201904 -------------------\n",
      "------------------ Step 200 : 138.2425093650818 -------------------\n",
      "------------------ Step 300 : 141.35652208328247 -------------------\n",
      "------------------ Step 400 : 139.41183280944824 -------------------\n",
      "------------------ Step 500 : 140.81400394439697 -------------------\n",
      "------------------ Step 600 : 136.6665666103363 -------------------\n",
      "------------------ Step 700 : 142.55149006843567 -------------------\n",
      "------------------ Step 800 : 139.43302750587463 -------------------\n",
      "------------------ Step 900 : 140.52976512908936 -------------------\n",
      "------------------ Step 1000 : 136.80347084999084 -------------------\n",
      "------------------ Step 1100 : 140.59596347808838 -------------------\n",
      "------------------ Step 1200 : 142.33417010307312 -------------------\n",
      "------------------ Step 1300 : 138.44559741020203 -------------------\n",
      "------------------ Step 1400 : 141.7730622291565 -------------------\n",
      "------------------ Step 1500 : 148.34066104888916 -------------------\n",
      "------------------ Step 1600 : 142.87334275245667 -------------------\n",
      "------------------ Step 1700 : 140.1378300189972 -------------------\n",
      "------------------ Step 100 : 135.67353582382202 -------------------\n"
     ]
    }
   ],
   "source": [
    "### 국가만 추출 ------------------ 240208 추가(박지호)\n",
    "# 규칙에 맞는 국가\n",
    "def country_func(country_str):\n",
    "    country_split = country_str.split(\"//\")\n",
    "    if len(country_str.split('//')) != 1 and country_str.split(\"//\")[-1].strip() != '':\n",
    "        country_str = country_str.split(\"//\")[-1]\n",
    "    elif len(country_str.split(\"/\")) != 1 and country_str.split(\"/\")[-1].strip() != \"\":  # 주소/주소/국가인 경우\n",
    "        country_str = country_str.split(\"/\")[-1]\n",
    "    return country_str\n",
    "\n",
    "# 규칙에 맞지 않는 국가 - 약 40분\n",
    "def geo_country_func(country_str, attempt = 1, max_attempt = 5):\n",
    "    time.sleep(1)  # 딜레이 -> geolocoder가 1초에 1번만 실행해야함\n",
    "    \n",
    "    global n      # 몇 번째 행인지\n",
    "    global start_t   # 얼마나 걸리는 지\n",
    "    if len(country_str.split(\"/\")) == 4 and country_str.split(\"/\")[-1].strip() != \"\":\n",
    "        country_str = country_str.split(\"/\")[-1]\n",
    "    elif len(country_str.split(\"/\")) == 3 and country_str.split(\"/\")[1].strip() != \"\":\n",
    "        country_str = country_str.split(\"/\")[1]\n",
    "    elif country_str.split(\",\")[-1].strip() != \"\":\n",
    "        country_str = country_str.split(\",\")[-1]\n",
    "    \n",
    "    try:\n",
    "        n += 1\n",
    "        geo = geolocoder.geocode(country_str) # 주소 검색\n",
    "        if pd.isna(geo):         # 주소가 없는 경우\n",
    "            country_str = geo    # 공백\n",
    "        else:\n",
    "            country_str = geo[0].split(\",\")[-1].strip()  # 주소가 있는 경우 추출\n",
    "        \n",
    "        # 현재 진행상황 및 시간 출력\n",
    "        if n % 100 ==0:\n",
    "            print(\"------------------ Step {} : {} -------------------\".format(n, time.time() - start_t))\n",
    "            start_t = time.time()\n",
    "        \n",
    "        return country_str\n",
    "    \n",
    "    except GeocoderTimedOut:  # error인 경우\n",
    "        if attempt <= max_attempt:   # 5번 이하로 재시도\n",
    "            return geo_country_func(country_str, attempt=attempt+1)\n",
    "        raise\n",
    "\n",
    "# 규칙에 맞는 국가 추출\n",
    "train.customer_country = [country_func(i) if not pd.isna(i) else i for i in train.customer_country]\n",
    "submission.customer_country = [country_func(i) if not pd.isna(i) else i for i in submission.customer_country]\n",
    "\n",
    "# 규칙에 맞지 않는 국가 추출\n",
    "n = 0\n",
    "start_t = time.time()\n",
    "geolocoder = Nominatim(user_agent = 'South Korea', timeout=None)\n",
    "country_train = list(set(train.customer_country)) # 국가 추출 전 raw data\n",
    "conversion_train = [geo_country_func(i) if not pd.isna(i) else i for i in country_train] # 국가 추출 후 data\n",
    "\n",
    "n = 0\n",
    "start_t = time.time()\n",
    "country_sub = list(set(submission.customer_country)) # 국가 추출 전 raw data\n",
    "conversion_sub = [geo_country_func(i) if not pd.isna(i) else i for i in country_sub] # 국가 추출 후 data"
   ]
  },
  {
   "cell_type": "code",
   "execution_count": 51,
   "id": "3cd579b4-b7b0-4cff-b7c9-c62e6e9fd184",
   "metadata": {
    "tags": []
   },
   "outputs": [],
   "source": [
    "# 번역\n",
    "conversion_trans_train = [i.split(\"/\")[-1] if not pd.isna(i) else i for i in conversion_train]  # 규칙에 맞지 않는 국가에서 특수문자가 아직 포함되어있는 경우 국가만 추출\n",
    "conversion_trans_train = [translate_func(i) if not pd.isna(i) else i for i in conversion_trans_train] # 번역\n",
    "conversion_trans_sub = [i.split(\"/\")[-1] if not pd.isna(i) else i for i in conversion_sub]  # 규칙에 맞지 않는 국가에서 특수문자가 아직 포함되어있는 경우 국가만 추출\n",
    "conversion_trans_sub = [translate_func(i) if not pd.isna(i) else i for i in conversion_trans_sub] # 번역\n",
    "\n",
    "# 카테고리명 변경\n",
    "conversion_df_train = pd.DataFrame([country_train, conversion_trans_train]).T  # DataFrame 생성\n",
    "conversion_df_train.columns = [\"country\", \"conversion\"]            # colunm명 생성\n",
    "conversion_dict_train = conversion_df_train.set_index(\"country\").T.to_dict()   # dict형으로 변환\n",
    "conversion_re_train = [conversion_dict_train[i][\"conversion\"] if not pd.isna(i) else i for i in train.customer_country] # country 기준 conversion으로 변경\n",
    "\n",
    "conversion_df_sub = pd.DataFrame([country_sub, conversion_trans_sub]).T  # DataFrame 생성\n",
    "conversion_df_sub.columns = [\"country\", \"conversion\"]            # colunm명 생성\n",
    "conversion_dict_sub = conversion_df_sub.set_index(\"country\").T.to_dict()   # dict형으로 변환\n",
    "conversion_re_sub = [conversion_dict_sub[i][\"conversion\"] if not pd.isna(i) else i for i in submission.customer_country] # country 기준 conversion으로 변경\n",
    "\n",
    "# 국가를 찾을 수 없는 카테고리는 원래의 카테고리명으로 - 결측치 그대로\n",
    "conversion_na_train = [train.customer_country.iloc[i] if pd.isna(conversion_re_train[i]) else conversion_re_train[i] for i in range(len(conversion_re_train))]\n",
    "conversion_na_sub = [submission.customer_country.iloc[i] if pd.isna(conversion_re_sub[i]) else conversion_re_sub[i] for i in range(len(conversion_re_sub))]\n",
    "\n",
    "# 국가를 찾을 수 없는 카테고리는 etc로 변경 - 결측치 0\n",
    "conversion_etc_train = [\"etc\" if pd.isna(conversion_re_train[i]) else conversion_re_train[i] for i in range(len(conversion_re_train))]\n",
    "conversion_etc_sub = [\"etc\" if pd.isna(conversion_re_sub[i]) else conversion_re_sub[i] for i in range(len(conversion_re_sub))]\n",
    "\n",
    "'''\n",
    "train.customer_country = conversion_etc_train ## 변경\n",
    "train.to_csv(\"conversion_train_etc.csv\", index = False)\n",
    "submission.customer_country = conversion_etc_sub\n",
    "submission.to_csv(\"conversion_sub_etc.csv\", index = False)\n",
    "\n",
    "train.customer_country = conversion_na_train ## 변경\n",
    "train.to_csv(\"conversion_train_na.csv\", index = False)\n",
    "submission.customer_country = conversion_na_sub\n",
    "submission.to_csv(\"conversion_sub_na.csv\", index = False)\n",
    "'''"
   ]
  },
  {
   "cell_type": "code",
   "execution_count": 75,
   "id": "563eef8d-082c-4179-b913-fcd2dd684c4e",
   "metadata": {
    "tags": []
   },
   "outputs": [
    {
     "name": "stdout",
     "output_type": "stream",
     "text": [
      "train 결측값 : 982 -> 982 -> 0\n",
      "train class 수 : 15400 -> 323 -> 158\n",
      "train class : ['4477 Progress Drive Airport Information Office /South Bend /', '124 W Oak St  /Louisville/', '1 Blachley Rd  NAB Event/Stamford/'] -> ['United States', 'United States', 'United States']\n",
      "\n",
      "submission 결측값 : 0 -> 0 -> 0\n",
      "submission class 수 : 2467 -> 86 -> 83\n",
      "submission class : ['   / гр. София, Област Софи / Bulgaria', 'United States', ' UNITED STATES'] -> ['Bulgaria', 'United States', 'United States']\n",
      "\n"
     ]
    }
   ],
   "source": [
    "# 전처리 이전과 이후 비교\n",
    "process_train_num_nan_na = pd.DataFrame(conversion_na_train).isna().sum()[0]\n",
    "process_train_num_nan_etc = pd.DataFrame(conversion_etc_train).isna().sum()[0]\n",
    "\n",
    "process_train_num_class_na = len(set(conversion_na_train))\n",
    "process_train_num_class_etc = len(set(conversion_etc_train))\n",
    "\n",
    "process_submission_num_nan_na = pd.DataFrame(conversion_na_sub).isna().sum()[0]\n",
    "process_submission_num_nan_etc = pd.DataFrame(conversion_etc_sub).isna().sum()[0]\n",
    "\n",
    "process_submission_num_class_na = len(set(conversion_na_sub))\n",
    "process_submission_num_class_etc = len(set(conversion_etc_sub))\n",
    "\n",
    "print(f'train 결측값 : {train_num_na} -> {process_train_num_nan_na} -> {process_train_num_nan_etc}')\n",
    "print(f'train class 수 : {train_num_class} -> {process_train_num_class_na} -> {process_train_num_class_etc}')\n",
    "print(f'train class : {country_train[0:3]} -> {conversion_trans_train[0:3]}',end='\\n\\n')\n",
    "\n",
    "print(f'submission 결측값 : {submission_num_na} -> {process_submission_num_nan_na} -> {process_submission_num_nan_etc}')\n",
    "print(f'submission class 수 : {submission_num_class} -> {process_submission_num_class_na} -> {process_submission_num_class_etc}')\n",
    "print(f'submission class : {country_sub[0:3]} -> {conversion_trans_sub[0:3]}',end='\\n\\n')"
   ]
  }
 ],
 "metadata": {
  "kernelspec": {
   "display_name": "Python 3 (ipykernel)",
   "language": "python",
   "name": "python3"
  },
  "language_info": {
   "codemirror_mode": {
    "name": "ipython",
    "version": 3
   },
   "file_extension": ".py",
   "mimetype": "text/x-python",
   "name": "python",
   "nbconvert_exporter": "python",
   "pygments_lexer": "ipython3",
   "version": "3.11.5"
  }
 },
 "nbformat": 4,
 "nbformat_minor": 5
}
